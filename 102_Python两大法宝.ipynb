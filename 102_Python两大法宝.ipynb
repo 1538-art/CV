{
 "cells": [
  {
   "cell_type": "markdown",
   "metadata": {},
   "source": [
    "# 1. Python两大法宝"
   ]
  },
  {
   "cell_type": "markdown",
   "metadata": {},
   "source": [
    "① Python3.6.3相当于一个package，package里面有不同的区域，不同的区域有不同的工具。\n",
    "\n",
    "② Python语法有两大法宝：dir()、help() 函数。\n",
    " - dir()：打开，看见里面有多少分区、多少工具。\n",
    " - help()：说明书。"
   ]
  },
  {
   "cell_type": "code",
   "execution_count": null,
   "metadata": {},
   "outputs": [],
   "source": [
    "import torch\n",
    "print(torch.cuda.is_available())\n",
    "help(torch.cuda.is_available) # 查看 torch.cuda.is_available 的用法\n",
    "dir(torch)  # 查看torch包中有哪些区、有哪些工具"
   ]
  },
  {
   "cell_type": "code",
   "execution_count": null,
   "metadata": {},
   "outputs": [],
   "source": []
  }
 ],
 "metadata": {
  "kernelspec": {
   "display_name": "py3.9-kernel",
   "language": "python",
   "name": "py3.9-kernel"
  },
  "language_info": {
   "codemirror_mode": {
    "name": "ipython",
    "version": 3
   },
   "file_extension": ".py",
   "mimetype": "text/x-python",
   "name": "python",
   "nbconvert_exporter": "python",
   "pygments_lexer": "ipython3",
   "version": "3.9.19"
  },
  "toc": {
   "base_numbering": 1,
   "nav_menu": {},
   "number_sections": false,
   "sideBar": true,
   "skip_h1_title": false,
   "title_cell": "Table of Contents",
   "title_sidebar": "Contents",
   "toc_cell": false,
   "toc_position": {
    "height": "calc(100% - 180px)",
    "left": "10px",
    "top": "150px",
    "width": "357.344px"
   },
   "toc_section_display": true,
   "toc_window_display": true
  }
 },
 "nbformat": 4,
 "nbformat_minor": 4
}
